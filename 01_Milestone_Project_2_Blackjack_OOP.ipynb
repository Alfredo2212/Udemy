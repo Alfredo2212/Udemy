{
  "cells": [
    {
      "cell_type": "markdown",
      "metadata": {
        "id": "view-in-github",
        "colab_type": "text"
      },
      "source": [
        "<a href=\"https://colab.research.google.com/github/Alfredo2212/Udemy/blob/main/01_Milestone_Project_2_Blackjack_OOP.ipynb\" target=\"_parent\"><img src=\"https://colab.research.google.com/assets/colab-badge.svg\" alt=\"Open In Colab\"/></a>"
      ]
    },
    {
      "cell_type": "markdown",
      "metadata": {
        "id": "nwPy6Gh4x9qf"
      },
      "source": [
        "___\n",
        "\n",
        "<a href='https://www.udemy.com/user/joseportilla/'><img src='../Pierian_Data_Logo.png'/></a>\n",
        "___\n",
        "<center><em>Content Copyright by Pierian Data</em></center>"
      ]
    },
    {
      "cell_type": "markdown",
      "metadata": {
        "id": "ZI0qDAnfx9qj"
      },
      "source": [
        "# Milestone Project 2 - Blackjack Game\n",
        "In this milestone project you will be creating a Complete BlackJack Card Game in Python.\n",
        "\n",
        "Here are the requirements:\n",
        "\n",
        "* You need to create a simple text-based [BlackJack](https://en.wikipedia.org/wiki/Blackjack) game\n",
        "* The game needs to have one player versus an automated dealer.\n",
        "* The player can stand or hit.\n",
        "* The player must be able to pick their betting amount.\n",
        "* You need to keep track of the player's total money.\n",
        "* You need to alert the player of wins, losses, or busts, etc...\n",
        "\n",
        "And most importantly:\n",
        "\n",
        "* **You must use OOP and classes in some portion of your game. You can not just use functions in your game. Use classes to help you define the Deck and the Player's hand. There are many right ways to do this, so explore it well!**\n",
        "\n",
        "\n",
        "Feel free to expand this game. Try including multiple players. Try adding in Double-Down and card splits! Remember to you are free to use any resources you want and as always:\n",
        "\n",
        "# HAVE FUN!"
      ]
    },
    {
      "cell_type": "code",
      "source": [
        "# import & global variables\n",
        "from random import shuffle\n",
        "suits=('Diamond','Spade','Heart','Club')\n",
        "ranks=('Two','Three','Four','Five','Six','Seven','Eight','Nine','Ten','Jack','Queen','King','Ace')\n",
        "values={'Two':2,'Three':3,'Four':4,'Five':5,'Six':6,'Seven':7,'Eight':8,'Nine':9,'Ten':10,'Jack':10,'Queen':10,'King':10,'Ace':11}"
      ],
      "metadata": {
        "id": "NJkUlu9UyC55"
      },
      "execution_count": 2,
      "outputs": []
    },
    {
      "cell_type": "code",
      "source": [
        "# Define class for card\n",
        "class Card():\n",
        "  def __init__(self, suit, rank):\n",
        "    self.suit = suit\n",
        "    self.rank = rank\n",
        "    self.value = values[rank]\n",
        "\n",
        "  def __str__(self):\n",
        "    return self.rank + \" of \" + self.suit"
      ],
      "metadata": {
        "id": "mkR-MKwfzNTq"
      },
      "execution_count": 3,
      "outputs": []
    },
    {
      "cell_type": "code",
      "source": [
        "# Define class for deck\n",
        "class Deck():\n",
        "  def __init__(self):\n",
        "    self.all_cards = []\n",
        "    self.shuffle_check = False\n",
        "    # Iterate through each suit and rank for a total of 4 x 13 card\n",
        "    for suit in suits:\n",
        "      for rank in ranks:\n",
        "        self.all_cards.append(Card(suit, rank))\n",
        "  # Printing deck count and shuffle check\n",
        "  def __str__(self):\n",
        "    if self.shuffle_check:\n",
        "      return f'Current deck is shuffled with {len(self.all_cards)} cards'\n",
        "    else:\n",
        "      return f'Current deck is unshuffled with {len(self.all_cards)} cards'\n",
        "  # Shuffle deck\n",
        "  def shuffle(self):\n",
        "    shuffle(self.all_cards)\n",
        "    self.shuffle_check = True\n",
        "  # Dealing card\n",
        "  def deal_card(self):\n",
        "    return self.all_cards.pop()"
      ],
      "metadata": {
        "id": "GZS1WTpo0HvU"
      },
      "execution_count": 4,
      "outputs": []
    },
    {
      "cell_type": "code",
      "source": [
        "# Player Money\n",
        "class Player():\n",
        "  def __init__(self, name, money):\n",
        "    self.name = name\n",
        "    self.money = money\n",
        "    self.hand = []\n",
        "    self.bet = 0\n",
        "    self.total_value = 0\n",
        "    self.bust = False\n",
        "\n",
        "  def __str__(self):\n",
        "    return f'{self.name} have ${self.money} left'"
      ],
      "metadata": {
        "id": "HwmB_Lgo5Lfv"
      },
      "execution_count": 5,
      "outputs": []
    },
    {
      "cell_type": "code",
      "source": [
        "# Getting bet amount for each player\n",
        "def betting(player):\n",
        "  while player.money > 0:\n",
        "    try: # validating input\n",
        "      bet = int(input(f\"Please enter your bet amount {player.name}: \"))\n",
        "    except:\n",
        "      print(\"Please input whole number only\")\n",
        "    else: # deal card\n",
        "      if bet > player.money:\n",
        "        print(f'Sorry {player.name} you dont have enough money, Balance: {player.money}')\n",
        "      else:\n",
        "        print(f\"{player.name}'s bet Success!\")\n",
        "        return bet"
      ],
      "metadata": {
        "id": "Q2yoX5ir9xNN"
      },
      "execution_count": 6,
      "outputs": []
    },
    {
      "cell_type": "code",
      "source": [
        "5# Blackjack Game Logic\n",
        "# 1. Initialize Players & Input Bet amount\n",
        "players = [Player(\"Alfredo\", 500), Player(\"Dermanto\", 1000)]\n",
        "\n",
        "for player in players:\n",
        "  player.bet = betting(player)\n",
        "\n",
        "# 2. Initialize hands and decks\n",
        "banker_hand = []\n",
        "for player in players:\n",
        "  player.hand = []\n",
        "deck = Deck()\n",
        "deck.shuffle()\n",
        "\n",
        "# 3. Deal card and store value in total_value\n",
        "for i in range(2):\n",
        "  banker_hand.append(deck.deal_card())\n",
        "  for player in players:\n",
        "    player.hand.append(deck.deal_card())\n",
        "print(f\"Banker's Open Card is {banker_hand[1]} Total Value: {sum(card.value for card in banker_hand)-banker_hand[0].value}\")\n",
        "for player in players:\n",
        "  player.total_value = sum(card.value for card in player.hand)\n",
        "  print(f\"{player.name}'s hand is {', '.join(str(card) for card in player.hand)} Total Value: {player.total_value}\")\n",
        "\n",
        "# 4. Get the value on each player's hand\n",
        "all_bust = False\n",
        "while not all_bust:\n",
        "  for player in players:\n",
        "    print(f\"{player.name}'s Turn\")\n",
        "    while player.total_value < 21 or (player.total_value<31 and any(card.rank == 'Ace' for card in player.hand)):\n",
        "      want_card = input(\"Press Y to Hit\").upper()\n",
        "      if want_card == 'Y':\n",
        "        player.hand.append(deck.deal_card())\n",
        "        player.total_value = sum(card.value for card in player.hand)\n",
        "        if player.total_value > 21 and any(card.rank == 'Ace' for card in player.hand):\n",
        "          player.total_value = sum(card.value for card in player.hand)-10\n",
        "          print(f\"{player.name}'s hand is {', '.join(str(card) for card in player.hand)} Total Value: {player.total_value}\")\n",
        "        else:\n",
        "          print(f\"{player.name}'s hand is {', '.join(str(card) for card in player.hand)} Total Value: {player.total_value}\")\n",
        "      else:\n",
        "        break\n",
        "      if player.total_value == 21 and len(player.hand)==2:\n",
        "        print(f\"{player.name} BLACKJACK!\")\n",
        "        break\n",
        "      elif player.total_value == 21:\n",
        "        print(f\"{player.name} u got 21!\")\n",
        "        break\n",
        "      else:\n",
        "        print(f\"{player.name} BUST!\")\n",
        "        player.bust = True\n",
        "        break\n",
        "  if all(player.bust for player in players):\n",
        "    all_bust = True\n",
        "    for player in players:\n",
        "      player.money -= player.bet\n",
        "      player.bet = 0\n",
        "    break\n",
        "  else:\n",
        "    print(f\"Banker's Card is {', '.join(str(card) for card in banker_hand)} Total Value: {banker_total_value}\")"
      ],
      "metadata": {
        "colab": {
          "base_uri": "https://localhost:8080/"
        },
        "id": "aOmm23tj7X8C",
        "outputId": "6410d6e7-8335-43e2-82de-4c10b82ef5a6"
      },
      "execution_count": 7,
      "outputs": [
        {
          "output_type": "stream",
          "name": "stdout",
          "text": [
            "Please enter your bet amount Alfredo: 55\n",
            "Alfredo's bet Success!\n",
            "Please enter your bet amount Dermanto: 5\n",
            "Dermanto's bet Success!\n",
            "Banker's Open Card is Queen of Diamond Total Value: 10\n",
            "Alfredo's hand is Jack of Diamond, Nine of Spade Total Value: 19\n",
            "Dermanto's hand is Six of Club, Four of Heart Total Value: 10\n",
            "Alfredo's Turn\n",
            "Press Y to Hity\n",
            "Alfredo's hand is Jack of Diamond, Nine of Spade, Ace of Club Total Value: 20\n",
            "Alfredo BUST!\n",
            "Dermanto's Turn\n",
            "Press Y to Hity\n",
            "Dermanto's hand is Six of Club, Four of Heart, Two of Club Total Value: 12\n",
            "Dermanto BUST!\n"
          ]
        }
      ]
    },
    {
      "cell_type": "code",
      "source": [],
      "metadata": {
        "id": "QEIkg0B0gZMO",
        "colab": {
          "base_uri": "https://localhost:8080/"
        },
        "outputId": "cc6a6d42-115d-4c23-a9b4-fdabf91aea10"
      },
      "execution_count": 35,
      "outputs": [
        {
          "output_type": "execute_result",
          "data": {
            "text/plain": [
              "0"
            ]
          },
          "metadata": {},
          "execution_count": 35
        }
      ]
    },
    {
      "cell_type": "code",
      "source": [],
      "metadata": {
        "id": "igHRzdxFjwBt"
      },
      "execution_count": null,
      "outputs": []
    }
  ],
  "metadata": {
    "kernelspec": {
      "display_name": "Python 3",
      "language": "python",
      "name": "python3"
    },
    "language_info": {
      "codemirror_mode": {
        "name": "ipython",
        "version": 3
      },
      "file_extension": ".py",
      "mimetype": "text/x-python",
      "name": "python",
      "nbconvert_exporter": "python",
      "pygments_lexer": "ipython3",
      "version": "3.6.6"
    },
    "colab": {
      "provenance": [],
      "include_colab_link": true
    }
  },
  "nbformat": 4,
  "nbformat_minor": 0
}