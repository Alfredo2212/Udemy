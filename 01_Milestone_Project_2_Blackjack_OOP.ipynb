{
  "cells": [
    {
      "cell_type": "markdown",
      "metadata": {
        "id": "view-in-github",
        "colab_type": "text"
      },
      "source": [
        "<a href=\"https://colab.research.google.com/github/Alfredo2212/Udemy/blob/main/01_Milestone_Project_2_Blackjack_OOP.ipynb\" target=\"_parent\"><img src=\"https://colab.research.google.com/assets/colab-badge.svg\" alt=\"Open In Colab\"/></a>"
      ]
    },
    {
      "cell_type": "markdown",
      "metadata": {
        "id": "nwPy6Gh4x9qf"
      },
      "source": [
        "___\n",
        "\n",
        "<a href='https://www.udemy.com/user/joseportilla/'><img src='../Pierian_Data_Logo.png'/></a>\n",
        "___\n",
        "<center><em>Content Copyright by Pierian Data</em></center>"
      ]
    },
    {
      "cell_type": "markdown",
      "metadata": {
        "id": "ZI0qDAnfx9qj"
      },
      "source": [
        "# Milestone Project 2 - Blackjack Game\n",
        "In this milestone project you will be creating a Complete BlackJack Card Game in Python.\n",
        "\n",
        "Here are the requirements:\n",
        "\n",
        "* You need to create a simple text-based [BlackJack](https://en.wikipedia.org/wiki/Blackjack) game\n",
        "* The game needs to have one player versus an automated dealer.\n",
        "* The player can stand or hit.\n",
        "* The player must be able to pick their betting amount.\n",
        "* You need to keep track of the player's total money.\n",
        "* You need to alert the player of wins, losses, or busts, etc...\n",
        "\n",
        "And most importantly:\n",
        "\n",
        "* **You must use OOP and classes in some portion of your game. You can not just use functions in your game. Use classes to help you define the Deck and the Player's hand. There are many right ways to do this, so explore it well!**\n",
        "\n",
        "\n",
        "Feel free to expand this game. Try including multiple players. Try adding in Double-Down and card splits! Remember to you are free to use any resources you want and as always:\n",
        "\n",
        "# HAVE FUN!"
      ]
    },
    {
      "cell_type": "code",
      "source": [
        "# import & global variables\n",
        "from random import shuffle\n",
        "suits=('Diamond','Spade','Heart','Club')\n",
        "ranks=('Two','Three','Four','Five','Six','Seven','Eight','Nine','Ten','Jack','Queen','King','Ace')\n",
        "values={'Two':2,'Three':3,'Four':4,'Five':5,'Six':6,'Seven':7,'Eight':8,'Nine':9,'Ten':10,'Jack':10,'Queen':10,'King':10,'Ace':11}"
      ],
      "metadata": {
        "id": "NJkUlu9UyC55"
      },
      "execution_count": 5,
      "outputs": []
    },
    {
      "cell_type": "code",
      "source": [
        "# Define class for card\n",
        "class Card():\n",
        "  def __init__(self, suit, rank):\n",
        "    self.suit = suit\n",
        "    self.rank = rank\n",
        "    self.value = values[rank]\n",
        "\n",
        "  def __str__(self):\n",
        "    return self.rank + \" of \" + self.suit"
      ],
      "metadata": {
        "id": "mkR-MKwfzNTq"
      },
      "execution_count": 27,
      "outputs": []
    },
    {
      "cell_type": "code",
      "source": [
        "# Define class for deck\n",
        "class Deck():\n",
        "  def __init__(self):\n",
        "    self.all_cards = []\n",
        "    self.shuffle_check = False\n",
        "    # Iterate through each suit and rank for a total of 4 x 13 card\n",
        "    for suit in suits:\n",
        "      for rank in ranks:\n",
        "        self.all_cards.append(Card(suit, rank))\n",
        "  # Printing deck count and shuffle check\n",
        "  def __str__(self):\n",
        "    if self.shuffle_check:\n",
        "      return f'Current deck is shuffled with {len(self.all_cards)} cards'\n",
        "    else:\n",
        "      return f'Current deck is unshuffled with {len(self.all_cards)} cards'\n",
        "  # Shuffle deck\n",
        "  def shuffle(self):\n",
        "    shuffle(self.all_cards)\n",
        "    self.shuffle_check = True\n",
        "  # Dealing card\n",
        "  def deal_card(self):\n",
        "    return self.all_cards.pop()"
      ],
      "metadata": {
        "id": "GZS1WTpo0HvU"
      },
      "execution_count": 61,
      "outputs": []
    },
    {
      "cell_type": "code",
      "source": [
        "# Player Money\n",
        "class Player():\n",
        "  def __init__(self, owner, money):\n",
        "    self.owner = owner\n",
        "    self.money = money\n",
        "    self.hand = []\n",
        "    self.bet = 0\n",
        "\n",
        "  def __str__(self):\n",
        "    return f'{self.owner} have ${self.money} left'"
      ],
      "metadata": {
        "id": "HwmB_Lgo5Lfv"
      },
      "execution_count": 68,
      "outputs": []
    },
    {
      "cell_type": "code",
      "source": [
        "# Getting bet amount for each player\n",
        "def betting(player):\n",
        "  while player.money > 0:\n",
        "    try: # validating input\n",
        "      bet = int(input(\"Please enter your bet amount: \"))\n",
        "    except:\n",
        "      print(\"Please input whole number only\")\n",
        "    else: # deal card\n",
        "      if bet > player.money:\n",
        "        print(f'Sorry {player.name} you dont have enough money, Balance: {player.money}')\n",
        "      else:\n",
        "        print(f\"{player.name}'s bet Success!\")\n",
        "        return bet"
      ],
      "metadata": {
        "id": "Q2yoX5ir9xNN"
      },
      "execution_count": 72,
      "outputs": []
    },
    {
      "cell_type": "code",
      "source": [
        "# Blackjack Game Logic\n",
        "# 1. Initialize Players & Input Bet amount\n",
        "players = [Player(\"Alfredo\", 500), Player(\"Dermanto\", 1000)]\n",
        "\n",
        "for p in players:\n",
        "  p.bet = betting(p)\n",
        "\n",
        "# 2. Initialize hands and decks\n",
        "banker_hand = []\n",
        "for p in players:\n",
        "  p.hand = []\n",
        "Deck()\n",
        "Deck.shuffle()\n",
        "\n",
        "# 3. Deal card\n",
        "all_bust = False\n",
        "for i in range(2):\n",
        "  banker_hand.append(Deck.deal_card)\n",
        "  p.hand.append(Deck.deal_card)\n",
        "  p.hand.append(Deck.deal_card)\n",
        "while not all_bust:\n",
        "\n"
      ],
      "metadata": {
        "id": "aOmm23tj7X8C"
      },
      "execution_count": null,
      "outputs": []
    }
  ],
  "metadata": {
    "kernelspec": {
      "display_name": "Python 3",
      "language": "python",
      "name": "python3"
    },
    "language_info": {
      "codemirror_mode": {
        "name": "ipython",
        "version": 3
      },
      "file_extension": ".py",
      "mimetype": "text/x-python",
      "name": "python",
      "nbconvert_exporter": "python",
      "pygments_lexer": "ipython3",
      "version": "3.6.6"
    },
    "colab": {
      "provenance": [],
      "include_colab_link": true
    }
  },
  "nbformat": 4,
  "nbformat_minor": 0
}