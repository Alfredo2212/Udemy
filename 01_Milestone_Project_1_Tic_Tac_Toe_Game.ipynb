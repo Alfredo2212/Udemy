{
  "cells": [
    {
      "cell_type": "markdown",
      "metadata": {
        "id": "view-in-github",
        "colab_type": "text"
      },
      "source": [
        "<a href=\"https://colab.research.google.com/github/Alfredo2212/Udemy/blob/main/01_Milestone_Project_1_Tic_Tac_Toe_Game.ipynb\" target=\"_parent\"><img src=\"https://colab.research.google.com/assets/colab-badge.svg\" alt=\"Open In Colab\"/></a>"
      ]
    },
    {
      "cell_type": "markdown",
      "metadata": {
        "id": "Qum4vsJygYmc"
      },
      "source": [
        "___\n",
        "\n",
        "<a href='https://www.udemy.com/user/joseportilla/'><img src='../Pierian_Data_Logo.png'/></a>\n",
        "___\n",
        "<center><em>Content Copyright by Pierian Data</em></center>"
      ]
    },
    {
      "cell_type": "markdown",
      "metadata": {
        "id": "XH65qVxZgYmg"
      },
      "source": [
        "# Milestone Project 1\n",
        "## Congratulations on making it to your first milestone!\n",
        "You've already learned a ton and are ready to work on a real project.\n",
        "\n",
        "Your assignment: Create a Tic Tac Toe game. You are free to use any IDE you like.\n",
        "\n",
        "Here are the requirements:\n",
        "\n",
        "* 2 players should be able to play the game (both sitting at the same computer)\n",
        "* The board should be printed out every time a player makes a move\n",
        "* You should be able to accept input of the player position and then place a symbol on the board\n",
        "\n",
        "Feel free to use Google to help you figure anything out (but don't just Google \"Tic Tac Toe in Python\" otherwise you won't learn anything!) Keep in mind that this project can take anywhere between several hours to several days.\n",
        "\n",
        "There are 4 Jupyter Notebooks related to this assignment:\n",
        "\n",
        "* This Assignment Notebook\n",
        "* A \"Walkthrough Steps Workbook\" Notebook\n",
        "* A \"Complete Walkthrough Solution\" Notebook\n",
        "* An \"Advanced Solution\" Notebook\n",
        "\n",
        "I encourage you to just try to start the project on your own without referencing any of the notebooks. If you get stuck, check out the next lecture which is a text lecture with helpful hints and steps. If you're still stuck after that, then check out the Walkthrough Steps Workbook, which breaks up the project in steps for you to solve. Still stuck? Then check out the Complete Walkthrough Solution video for more help on approaching the project!"
      ]
    },
    {
      "cell_type": "markdown",
      "metadata": {
        "id": "R1tMsAADgYmg"
      },
      "source": [
        "There are parts of this that will be a struggle...and that is good! I have complete faith that if you have made it this far through the course you have all the tools and knowledge to tackle this project. Remember, it's totally open book, so take your time, do a little research, and remember:\n",
        "\n",
        "## HAVE FUN!"
      ]
    },
    {
      "cell_type": "code",
      "source": [
        "# Asking player for X & O's\n",
        "def game_init(x_or_o,winner_exists,stop_game):\n",
        "  play_again = \"\"\n",
        "  if winner_exists:\n",
        "    while play_again != \"Y\":\n",
        "      play_again = input(\"Press Y to play again!\").upper()\n",
        "      if play_again == \"Y\":\n",
        "        winner_exists=False\n",
        "        x_or_o=\"\"\n",
        "        stop_game=False\n",
        "        while x_or_o not in [\"X\",\"O\"]:\n",
        "          x_or_o = input(\"Would you start the game as an X/O?\").upper()\n",
        "          if x_or_o not in [\"X\",\"O\"]:\n",
        "            print(\"Please input only X/O to start the game\")\n",
        "          else:\n",
        "            print(\"Let's start the game!\")\n",
        "      else:\n",
        "        print(\"Ending game, Thank you for playing\")\n",
        "        stop_game= True\n",
        "        break\n",
        "  else:\n",
        "    while x_or_o not in [\"X\",\"O\"]:\n",
        "      x_or_o = input(\"Would you start the game as an X/O?\").upper()\n",
        "      if x_or_o not in [\"X\",\"O\"]:\n",
        "        print(\"Please input only X/O to start the game\")\n",
        "      else:\n",
        "        print(\"Let's start the game!\")\n",
        "  return x_or_o, winner_exists, stop_game"
      ],
      "metadata": {
        "id": "PUWQ9SUygahh"
      },
      "execution_count": 107,
      "outputs": []
    },
    {
      "cell_type": "code",
      "source": [
        "# Drawing the Tic Tac Toe Board\n",
        "def draw():\n",
        "  board = \"\"\n",
        "  for i,j in enumerate(number_list):\n",
        "    board += \"| \" + str(j) + \" \"\n",
        "    if (i+1) % 3 == 0:\n",
        "      board += \"|\\n\"\n",
        "  print(board)"
      ],
      "metadata": {
        "id": "bQhAcVHwhc1k"
      },
      "execution_count": 53,
      "outputs": []
    },
    {
      "cell_type": "code",
      "source": [
        "# Asking for Input & Turn check\n",
        "def xo_input(x_or_o):\n",
        "  user_input = \"\"\n",
        "  while user_input not in range(1,10):\n",
        "    user_input = input(f\"Where do you like to draw {x_or_o}?\")\n",
        "    if not user_input.isdigit():\n",
        "      print(\"Please input number!\")\n",
        "    else:\n",
        "      user_input = int(user_input)\n",
        "      if int(user_input) not in range(1,10):\n",
        "        print(\"The number is out of range 1 to 9!\")\n",
        "      else:\n",
        "        if user_input not in number_list:\n",
        "          print(\"The number is already taken\")\n",
        "        else:\n",
        "          number_list[user_input-1] = x_or_o\n",
        "          if x_or_o == \"X\":\n",
        "            x_or_o = \"O\"\n",
        "          else:\n",
        "            x_or_o = \"X\"\n",
        "  return number_list, x_or_o"
      ],
      "metadata": {
        "id": "w5tQjCJMiwhc"
      },
      "execution_count": 112,
      "outputs": []
    },
    {
      "cell_type": "code",
      "source": [
        "# Winning Condition\n",
        "def winning(winner_exists):\n",
        "  win_combo=[\n",
        "      (0,1,2),(3,4,5),(6,7,8),\n",
        "      (0,3,6),(1,4,7),(2,5,8),\n",
        "      (0,4,8),(6,4,2)\n",
        "  ]\n",
        "  for a, b, c in win_combo:\n",
        "    winner = number_list[a]\n",
        "    if number_list[a] == number_list[b] == number_list[c] and number_list[a] != \" \":\n",
        "        winner_exists = True\n",
        "        break\n",
        "  return winner_exists, winner"
      ],
      "metadata": {
        "id": "MeR-2iCymVuk"
      },
      "execution_count": 75,
      "outputs": []
    },
    {
      "cell_type": "code",
      "source": [
        "winner_exists=False\n",
        "stop_game=False\n",
        "while not stop_game:\n",
        "  number_list = list(range(1,10))\n",
        "  winner=\"\"\n",
        "  x_or_o=\"\"\n",
        "  x_or_o, winner_exists, stop_game = game_init(x_or_o,winner_exists,stop_game)\n",
        "  if stop_game:\n",
        "    break\n",
        "  while not winner_exists:\n",
        "    if not x_or_o == \"\":\n",
        "      draw()\n",
        "      number_list, x_or_o = xo_input(x_or_o)\n",
        "      winner_exists, winner = winning(winner_exists)\n",
        "      if winner_exists:\n",
        "        print(f\"Congratulation {winner} win!\")\n",
        "        draw()\n",
        "        break\n",
        "      if len(set(number_list)) == 2:\n",
        "        print(f\"It's a Draw!\")\n",
        "        draw()\n",
        "        winner_exists=True\n",
        "        break"
      ],
      "metadata": {
        "id": "OO6PpEHKp92m"
      },
      "execution_count": null,
      "outputs": []
    },
    {
      "cell_type": "code",
      "source": [],
      "metadata": {
        "colab": {
          "base_uri": "https://localhost:8080/"
        },
        "id": "yP4IHByYja_W",
        "outputId": "2f922f91-4ec9-49bd-ef14-ff82e04d2c07"
      },
      "execution_count": 100,
      "outputs": [
        {
          "output_type": "execute_result",
          "data": {
            "text/plain": [
              "2"
            ]
          },
          "metadata": {},
          "execution_count": 100
        }
      ]
    },
    {
      "cell_type": "code",
      "source": [],
      "metadata": {
        "id": "0_ekwK5bvC91"
      },
      "execution_count": null,
      "outputs": []
    }
  ],
  "metadata": {
    "kernelspec": {
      "display_name": "Python 3",
      "language": "python",
      "name": "python3"
    },
    "language_info": {
      "codemirror_mode": {
        "name": "ipython",
        "version": 3
      },
      "file_extension": ".py",
      "mimetype": "text/x-python",
      "name": "python",
      "nbconvert_exporter": "python",
      "pygments_lexer": "ipython3",
      "version": "3.6.6"
    },
    "colab": {
      "provenance": [],
      "include_colab_link": true
    }
  },
  "nbformat": 4,
  "nbformat_minor": 0
}