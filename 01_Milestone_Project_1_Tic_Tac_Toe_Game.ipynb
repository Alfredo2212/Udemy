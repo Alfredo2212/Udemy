{
  "cells": [
    {
      "cell_type": "markdown",
      "metadata": {
        "id": "view-in-github",
        "colab_type": "text"
      },
      "source": [
        "<a href=\"https://colab.research.google.com/github/Alfredo2212/Udemy/blob/main/01_Milestone_Project_1_Tic_Tac_Toe_Game.ipynb\" target=\"_parent\"><img src=\"https://colab.research.google.com/assets/colab-badge.svg\" alt=\"Open In Colab\"/></a>"
      ]
    },
    {
      "cell_type": "markdown",
      "metadata": {
        "id": "Qum4vsJygYmc"
      },
      "source": [
        "___\n",
        "\n",
        "<a href='https://www.udemy.com/user/joseportilla/'><img src='../Pierian_Data_Logo.png'/></a>\n",
        "___\n",
        "<center><em>Content Copyright by Pierian Data</em></center>"
      ]
    },
    {
      "cell_type": "markdown",
      "metadata": {
        "id": "XH65qVxZgYmg"
      },
      "source": [
        "# Milestone Project 1\n",
        "## Congratulations on making it to your first milestone!\n",
        "You've already learned a ton and are ready to work on a real project.\n",
        "\n",
        "Your assignment: Create a Tic Tac Toe game. You are free to use any IDE you like.\n",
        "\n",
        "Here are the requirements:\n",
        "\n",
        "* 2 players should be able to play the game (both sitting at the same computer)\n",
        "* The board should be printed out every time a player makes a move\n",
        "* You should be able to accept input of the player position and then place a symbol on the board\n",
        "\n",
        "Feel free to use Google to help you figure anything out (but don't just Google \"Tic Tac Toe in Python\" otherwise you won't learn anything!) Keep in mind that this project can take anywhere between several hours to several days.\n",
        "\n",
        "There are 4 Jupyter Notebooks related to this assignment:\n",
        "\n",
        "* This Assignment Notebook\n",
        "* A \"Walkthrough Steps Workbook\" Notebook\n",
        "* A \"Complete Walkthrough Solution\" Notebook\n",
        "* An \"Advanced Solution\" Notebook\n",
        "\n",
        "I encourage you to just try to start the project on your own without referencing any of the notebooks. If you get stuck, check out the next lecture which is a text lecture with helpful hints and steps. If you're still stuck after that, then check out the Walkthrough Steps Workbook, which breaks up the project in steps for you to solve. Still stuck? Then check out the Complete Walkthrough Solution video for more help on approaching the project!"
      ]
    },
    {
      "cell_type": "markdown",
      "metadata": {
        "id": "R1tMsAADgYmg"
      },
      "source": [
        "There are parts of this that will be a struggle...and that is good! I have complete faith that if you have made it this far through the course you have all the tools and knowledge to tackle this project. Remember, it's totally open book, so take your time, do a little research, and remember:\n",
        "\n",
        "## HAVE FUN!"
      ]
    },
    {
      "cell_type": "code",
      "source": [
        "# Asking player for X & O's\n",
        "def game_init():\n",
        "  x_or_o = \"\"\n",
        "  while x_or_o not in [\"X\",\"O\"]:\n",
        "    x_or_o = input(\"Would you start the game as an X/O?\").upper()\n",
        "    if x_or_o not in [\"X\",\"O\"]:\n",
        "      print(\"Please input only X/O to start the game\")"
      ],
      "metadata": {
        "id": "PUWQ9SUygahh"
      },
      "execution_count": 1,
      "outputs": []
    },
    {
      "cell_type": "code",
      "source": [
        "# Drawing the Tic Tac Toe Board\n",
        "number_list = list(range(1,10))\n",
        "def draw():\n",
        "  board = \"\"\n",
        "  for i in number_list:\n",
        "      board += \"| \" + str(i) + \" \"\n",
        "      if i % 3 == 0:\n",
        "        board += \"|\\n\"\n",
        "  print(board)"
      ],
      "metadata": {
        "id": "bQhAcVHwhc1k"
      },
      "execution_count": 62,
      "outputs": []
    },
    {
      "cell_type": "code",
      "source": [
        "# Asking for Input\n",
        "def xo_input(x):\n",
        "  user_input = \"\"\n",
        "  while user_input not in range(1,10):\n",
        "    user_input = input(f\"Where do you like to draw {x}?\")\n",
        "    if not user_input.isdigit():\n",
        "      print(\"Please input number!\")\n",
        "    else:\n",
        "      user_input = int(user_input)\n",
        "      if int(user_input) not in range(1,10):\n",
        "        print(\"The number is out of range 1 to 9!\")\n",
        "      else:\n",
        "        if user_input not in number_list:\n",
        "          print(type(user_input))\n",
        "          print(\"The number is already taken\")\n",
        "        else:\n",
        "          number_list[user_input-1] = x\n",
        "  return number_list"
      ],
      "metadata": {
        "id": "w5tQjCJMiwhc"
      },
      "execution_count": 59,
      "outputs": []
    },
    {
      "cell_type": "code",
      "source": [
        "number_list = xo_input(\"X\")"
      ],
      "metadata": {
        "colab": {
          "base_uri": "https://localhost:8080/"
        },
        "id": "MeR-2iCymVuk",
        "outputId": "9dc49dd1-f543-4a01-95a5-110d7ec06ab7"
      },
      "execution_count": 60,
      "outputs": [
        {
          "name": "stdout",
          "output_type": "stream",
          "text": [
            "Where do you like to draw X?5\n"
          ]
        },
        {
          "output_type": "execute_result",
          "data": {
            "text/plain": [
              "[1, 2, 3, 4, 'X', 6, 7, 8, 9]"
            ]
          },
          "metadata": {},
          "execution_count": 60
        }
      ]
    },
    {
      "cell_type": "code",
      "source": [
        "number_list"
      ],
      "metadata": {
        "colab": {
          "base_uri": "https://localhost:8080/"
        },
        "id": "On7MOTkKo_Qu",
        "outputId": "b7ca3643-8d01-4e39-d7d2-ee352d53aedd"
      },
      "execution_count": 58,
      "outputs": [
        {
          "output_type": "execute_result",
          "data": {
            "text/plain": [
              "[1, 2, 3, 4, 5, 6, 7, 8, 9]"
            ]
          },
          "metadata": {},
          "execution_count": 58
        }
      ]
    },
    {
      "cell_type": "code",
      "source": [
        "draw()"
      ],
      "metadata": {
        "colab": {
          "base_uri": "https://localhost:8080/"
        },
        "id": "OO6PpEHKp92m",
        "outputId": "7649cbd7-b87f-40ff-fffe-47f705e2d6fa"
      },
      "execution_count": 63,
      "outputs": [
        {
          "output_type": "stream",
          "name": "stdout",
          "text": [
            "| 1 | 2 | 3 |\n",
            "| 4 | 5 | 6 |\n",
            "| 7 | 8 | 9 |\n",
            "\n"
          ]
        }
      ]
    },
    {
      "cell_type": "code",
      "source": [],
      "metadata": {
        "id": "ZBXbOQXhsAL6"
      },
      "execution_count": null,
      "outputs": []
    }
  ],
  "metadata": {
    "kernelspec": {
      "display_name": "Python 3",
      "language": "python",
      "name": "python3"
    },
    "language_info": {
      "codemirror_mode": {
        "name": "ipython",
        "version": 3
      },
      "file_extension": ".py",
      "mimetype": "text/x-python",
      "name": "python",
      "nbconvert_exporter": "python",
      "pygments_lexer": "ipython3",
      "version": "3.6.6"
    },
    "colab": {
      "provenance": [],
      "include_colab_link": true
    }
  },
  "nbformat": 4,
  "nbformat_minor": 0
}